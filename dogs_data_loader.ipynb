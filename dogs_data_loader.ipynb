{
 "cells": [
  {
   "cell_type": "code",
   "execution_count": 1,
   "metadata": {},
   "outputs": [],
   "source": [
    "from __future__ import division\n",
    "import os\n",
    "#import cv2\n",
    "import random\n",
    "import gc\n",
    "import numpy as np\n",
    "import tensorflow as tf\n",
    "from tensorflow.keras.preprocessing import image"
   ]
  },
  {
   "cell_type": "code",
   "execution_count": 2,
   "metadata": {},
   "outputs": [],
   "source": [
    "def printProgressBar (iteration, total, prefix = '', suffix = '', decimals = 1, length = 100, fill = '█'):\n",
    "    \"\"\"\n",
    "    Call in a loop to create terminal progress bar\n",
    "    @params:\n",
    "        iteration   - Required  : current iteration (Int)\n",
    "        total       - Required  : total iterations (Int)\n",
    "        prefix      - Optional  : prefix string (Str)\n",
    "        suffix      - Optional  : suffix string (Str)\n",
    "        decimals    - Optional  : positive number of decimals in percent complete (Int)\n",
    "        length      - Optional  : character length of bar (Int)\n",
    "        fill        - Optional  : bar fill character (Str)\n",
    "    \"\"\"\n",
    "    percent = (\"{0:.\" + str(decimals) + \"f}\").format(100 * (iteration / float(total)))\n",
    "    filledLength = int(length * iteration // total)\n",
    "    bar = fill * filledLength + '-' * (length - filledLength)\n",
    "    print('\\r%s |%s| %s%% %s' % (prefix, bar, percent, suffix), end = '\\r')\n",
    "    # Print New Line on Complete\n",
    "    if iteration == total: \n",
    "        print()"
   ]
  },
  {
   "cell_type": "code",
   "execution_count": 3,
   "metadata": {},
   "outputs": [],
   "source": [
    "def read_images(dataset_path, nrows, ncolumns, shuffle=True):\n",
    "    imagepaths, labels = list(), list()\n",
    "    # An ID will be affected to each sub-folders by alphabetical order\n",
    "    label = 0\n",
    "    # List the directory\n",
    "    classes = sorted(os.walk(dataset_path).__next__()[1])\n",
    "    # List each sub-directory (the classes)\n",
    "    for c in classes:\n",
    "        c_dir = os.path.join(dataset_path, c)\n",
    "        walk = os.walk(c_dir).__next__()\n",
    "        # Add each image to the training set\n",
    "        for sample in walk[2]:\n",
    "            # Only keeps png images\n",
    "            if sample.endswith('.jpg'):\n",
    "                imagepaths.append(os.path.join(c_dir, sample))\n",
    "                labels.append(label)\n",
    "        label += 1\n",
    "    \n",
    "    #print(\"Numero de classes: \", label)\n",
    "    #Shuffle the dataset:\n",
    "    comb_images = list(zip(imagepaths,labels))\n",
    "    if shuffle:\n",
    "        random.shuffle(comb_images)\n",
    "        \n",
    "    #Deleting useless data:\n",
    "    del imagepaths\n",
    "    del labels\n",
    "    #Run the garbage collector\n",
    "    gc.collect()\n",
    "    \n",
    "    x = []\n",
    "    y = []\n",
    "    \n",
    "    l = len(comb_images)\n",
    "    print(l)\n",
    "    printProgressBar(0, l, prefix = 'Progress:', suffix = 'Complete', length = 50)\n",
    "    i=0\n",
    "    for im_pth,lab in comb_images:\n",
    "        #x.append(cv2.resize(cv2.imread(im_pth, cv2.IMREAD_COLOR), (nrows, ncolumns), interpolation=cv2.INTER_CUBIC))\n",
    "        img = image.load_img(im_pth, target_size=(nrows, ncolumns))\n",
    "        img = image.img_to_array(img)\n",
    "        x.append(img)\n",
    "        y.append(lab)\n",
    "        printProgressBar(i + 1, l, prefix = 'Progress:', suffix = 'Complete', length = 50)\n",
    "        i=i+1\n",
    "        \n",
    "    return x,y"
   ]
  },
  {
   "cell_type": "code",
   "execution_count": 4,
   "metadata": {},
   "outputs": [
    {
     "name": "stdout",
     "output_type": "stream",
     "text": [
      "20580\n",
      "Progress: |██████████████████████████████████████████████████| 100.0% Complete\n"
     ]
    }
   ],
   "source": [
    "# Image Parameters\n",
    "N_CLASSES = 120 # CHANGE HERE, total number of classes\n",
    "IMG_HEIGHT = 96 # CHANGE HERE, the image height to be resized to\n",
    "IMG_WIDTH = 96 # CHANGE HERE, the image width to be resized to\n",
    "CHANNELS = 3 # The 3 color channels, change to 1 if grayscale\n",
    "\n",
    "#Extracting training\n",
    "DATASET_PATH = './Images'\n",
    "x_train, y_train = read_images(DATASET_PATH, IMG_HEIGHT, IMG_WIDTH)"
   ]
  },
  {
   "cell_type": "code",
   "execution_count": 5,
   "metadata": {},
   "outputs": [],
   "source": [
    "x_train_np = np.array(x_train)\n",
    "y_train_np = np.array(y_train)\n",
    "np.save('dogs_x_train', x_train_np)\n",
    "np.save('dogs_y_train', y_train_np)"
   ]
  },
  {
   "cell_type": "code",
   "execution_count": 6,
   "metadata": {},
   "outputs": [
    {
     "data": {
      "text/plain": [
       "\"#Extracting training\\nDATASET_PATH = './flower_data/valid/'\\nx_valid, y_valid = read_images(DATASET_PATH, IMG_HEIGHT, IMG_WIDTH)\""
      ]
     },
     "execution_count": 6,
     "metadata": {},
     "output_type": "execute_result"
    }
   ],
   "source": [
    "'''#Extracting training\n",
    "DATASET_PATH = './flower_data/valid/'\n",
    "x_valid, y_valid = read_images(DATASET_PATH, IMG_HEIGHT, IMG_WIDTH)'''"
   ]
  },
  {
   "cell_type": "code",
   "execution_count": 7,
   "metadata": {},
   "outputs": [
    {
     "data": {
      "text/plain": [
       "\"x_valid_np = np.array(x_valid)\\ny_valid_np = np.array(y_valid)\\nnp.save('x_valid', x_valid_np)\\nnp.save('y_valid', y_valid_np)\""
      ]
     },
     "execution_count": 7,
     "metadata": {},
     "output_type": "execute_result"
    }
   ],
   "source": [
    "'''x_valid_np = np.array(x_valid)\n",
    "y_valid_np = np.array(y_valid)\n",
    "np.save('x_valid', x_valid_np)\n",
    "np.save('y_valid', y_valid_np)'''"
   ]
  },
  {
   "cell_type": "code",
   "execution_count": null,
   "metadata": {},
   "outputs": [],
   "source": []
  },
  {
   "cell_type": "code",
   "execution_count": null,
   "metadata": {},
   "outputs": [],
   "source": []
  }
 ],
 "metadata": {
  "kernelspec": {
   "display_name": "Python 3",
   "language": "python",
   "name": "python3"
  },
  "language_info": {
   "codemirror_mode": {
    "name": "ipython",
    "version": 3
   },
   "file_extension": ".py",
   "mimetype": "text/x-python",
   "name": "python",
   "nbconvert_exporter": "python",
   "pygments_lexer": "ipython3",
   "version": "3.5.3"
  }
 },
 "nbformat": 4,
 "nbformat_minor": 2
}
