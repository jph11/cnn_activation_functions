{
 "cells": [
  {
   "cell_type": "code",
   "execution_count": 1,
   "metadata": {},
   "outputs": [
    {
     "name": "stderr",
     "output_type": "stream",
     "text": [
      "Using TensorFlow backend.\n"
     ]
    }
   ],
   "source": [
    "import numpy as np\n",
    "import os\n",
    "import sys\n",
    "import tensorflow as tf\n",
    "from keras.utils import np_utils\n",
    "from keras.preprocessing import image\n",
    "from keras.applications.mobilenet import preprocess_input\n",
    "\n",
    "from tensorflow.keras.models import Sequential\n",
    "from tensorflow.keras.layers import Dense, Dropout, Activation, Flatten\n",
    "from tensorflow.keras.layers import Conv2D, MaxPooling2D\n",
    "from tensorflow.keras.preprocessing.image import ImageDataGenerator\n",
    "from tensorflow.keras.callbacks import EarlyStopping\n",
    "\n",
    "# CONSTANTS\n",
    "IMAGE_WIDTH = 96\n",
    "IMAGE_HEIGHT = 96\n",
    "IMAGE_NUMBER_CHANNELS = 3\n",
    "NUM_CLASSES = 120"
   ]
  },
  {
   "cell_type": "code",
   "execution_count": 2,
   "metadata": {},
   "outputs": [],
   "source": [
    "x_train = np.load('dogs_x_train.npy')\n",
    "y_train = np.load('dogs_y_train.npy')\n",
    "#x_valid = np.load('x_valid.npy')\n",
    "#y_valid = np.load('y_valid.npy')\n",
    "#x_test = np.load('x_test.npy')\n",
    "#y_test = np.load('y_test.npy')\n",
    "\n",
    "#Normalize data\n",
    "x_train = x_train.astype('float32')\n",
    "#x_valid = x_valid.astype('float32')\n",
    "#x_test = x_test.astype('float32')\n",
    "x_train = x_train / 255\n",
    "#x_valid = x_valid / 255\n",
    "#x_test = x_test / 255\n",
    "\n",
    "from tensorflow.keras.utils import to_categorical\n",
    "y_train = to_categorical(y_train, NUM_CLASSES)\n",
    "#y_valid = to_categorical(y_valid, NUM_CLASSES)\n",
    "#y_test = to_categorical(y_test, NUM_CLASSES)\n",
    "\n",
    "#MNIST resolution\n",
    "img_rows, img_cols, channels = IMAGE_HEIGHT, IMAGE_WIDTH, IMAGE_NUMBER_CHANNELS\n",
    "\n",
    "from tensorflow.keras import backend as K\n",
    "\n",
    "if K.image_data_format() == 'channels_first':\n",
    "    x_train = x_train.reshape(x_train.shape[0], channels, img_rows, img_cols)\n",
    "    #x_valid = x_valid.reshape(x_valid.shape[0], channels, img_rows, img_cols)\n",
    "    #x_test = x_test.reshape(x_test.shape[0], channels, img_rows, img_cols)\n",
    "    input_shape = (channels, img_rows, img_cols)\n",
    "else:\n",
    "    x_train = x_train.reshape(x_train.shape[0], img_rows, img_cols, channels)\n",
    "    #x_valid = x_valid.reshape(x_valid.shape[0], img_rows, img_cols, channels)\n",
    "    #x_test = x_test.reshape(x_test.shape[0], img_rows, img_cols, channels)\n",
    "    input_shape = (img_rows, img_cols, channels)"
   ]
  },
  {
   "cell_type": "code",
   "execution_count": 3,
   "metadata": {},
   "outputs": [],
   "source": [
    "'''# Data load and splitting\n",
    "X = np.load(\"X.npy\")\n",
    "Y = np.load(\"Y.npy\")\n",
    "\n",
    "Y = np_utils.to_categorical(Y, NUM_CLASSES)\n",
    "\n",
    "mask = np.random.rand(len(X)) < 0.9\n",
    "\n",
    "X_trn, X_tst = X[mask], X[~mask]\n",
    "Y_trn, Y_tst = Y[mask], Y[~mask]'''\n",
    "\n",
    "# Adaptacion\n",
    "X = x_train\n",
    "Y = y_train\n",
    "\n",
    "mask = np.random.rand(len(X)) < 0.9\n",
    "\n",
    "X_trn, X_tst = X[mask], X[~mask]\n",
    "Y_trn, Y_tst = Y[mask], Y[~mask]"
   ]
  },
  {
   "cell_type": "code",
   "execution_count": 4,
   "metadata": {
    "scrolled": true
   },
   "outputs": [
    {
     "name": "stdout",
     "output_type": "stream",
     "text": [
      "WARNING:tensorflow:From /usr/local/lib/python3.5/dist-packages/tensorflow/python/ops/resource_variable_ops.py:435: colocate_with (from tensorflow.python.framework.ops) is deprecated and will be removed in a future version.\n",
      "Instructions for updating:\n",
      "Colocations handled automatically by placer.\n",
      "WARNING:tensorflow:From /usr/local/lib/python3.5/dist-packages/tensorflow/python/keras/layers/core.py:143: calling dropout (from tensorflow.python.ops.nn_ops) with keep_prob is deprecated and will be removed in a future version.\n",
      "Instructions for updating:\n",
      "Please use `rate` instead of `keep_prob`. Rate should be set to `rate = 1 - keep_prob`.\n",
      "\n",
      "WARNING: The TensorFlow contrib module will not be included in TensorFlow 2.0.\n",
      "For more information, please see:\n",
      "  * https://github.com/tensorflow/community/blob/master/rfcs/20180907-contrib-sunset.md\n",
      "  * https://github.com/tensorflow/addons\n",
      "If you depend on functionality not listed there, please file an issue.\n",
      "\n",
      "INFO:tensorflow:Querying Tensorflow master (grpc://10.240.1.2:8470) for TPU system metadata.\n",
      "INFO:tensorflow:Found TPU system:\n",
      "INFO:tensorflow:*** Num TPU Cores: 8\n",
      "INFO:tensorflow:*** Num TPU Workers: 1\n",
      "INFO:tensorflow:*** Num TPU Cores Per Worker: 8\n",
      "INFO:tensorflow:*** Available Device: _DeviceAttributes(/job:worker/replica:0/task:0/device:CPU:0, CPU, -1, 1518520649310485134)\n",
      "INFO:tensorflow:*** Available Device: _DeviceAttributes(/job:worker/replica:0/task:0/device:XLA_CPU:0, XLA_CPU, 17179869184, 14552200333382919537)\n",
      "INFO:tensorflow:*** Available Device: _DeviceAttributes(/job:worker/replica:0/task:0/device:TPU:0, TPU, 17179869184, 12091039786192538634)\n",
      "INFO:tensorflow:*** Available Device: _DeviceAttributes(/job:worker/replica:0/task:0/device:TPU:1, TPU, 17179869184, 497341025071037357)\n",
      "INFO:tensorflow:*** Available Device: _DeviceAttributes(/job:worker/replica:0/task:0/device:TPU:2, TPU, 17179869184, 7840044680866296684)\n",
      "INFO:tensorflow:*** Available Device: _DeviceAttributes(/job:worker/replica:0/task:0/device:TPU:3, TPU, 17179869184, 17316741463829741357)\n",
      "INFO:tensorflow:*** Available Device: _DeviceAttributes(/job:worker/replica:0/task:0/device:TPU:4, TPU, 17179869184, 7233368872779332062)\n",
      "INFO:tensorflow:*** Available Device: _DeviceAttributes(/job:worker/replica:0/task:0/device:TPU:5, TPU, 17179869184, 1811196450198985317)\n",
      "INFO:tensorflow:*** Available Device: _DeviceAttributes(/job:worker/replica:0/task:0/device:TPU:6, TPU, 17179869184, 720459252525585601)\n",
      "INFO:tensorflow:*** Available Device: _DeviceAttributes(/job:worker/replica:0/task:0/device:TPU:7, TPU, 17179869184, 33784313097986820)\n",
      "INFO:tensorflow:*** Available Device: _DeviceAttributes(/job:worker/replica:0/task:0/device:TPU_SYSTEM:0, TPU_SYSTEM, 17179869184, 18213461754628581354)\n",
      "WARNING:tensorflow:tpu_model (from tensorflow.contrib.tpu.python.tpu.keras_support) is experimental and may change or be removed at any time, and without warning.\n",
      "INFO:tensorflow:Cloning Adam {'beta_1': 0.8999999761581421, 'amsgrad': False, 'decay': 0.0, 'beta_2': 0.9990000128746033, 'lr': 0.0010000000474974513, 'epsilon': 1e-07}\n",
      "INFO:tensorflow:Cloning Adam {'beta_1': 0.8999999761581421, 'amsgrad': False, 'decay': 0.0, 'beta_2': 0.9990000128746033, 'lr': 0.0010000000474974513, 'epsilon': 1e-07}\n"
     ]
    }
   ],
   "source": [
    "model = Sequential()\n",
    "model.add(Conv2D(32, (3, 3), padding='same', input_shape=X_trn.shape[1:]))\n",
    "model.add(Activation('relu'))\n",
    "model.add(Conv2D(32, (3, 3)))\n",
    "model.add(Activation('relu'))\n",
    "model.add(MaxPooling2D(pool_size=(2, 2)))\n",
    "model.add(Dropout(0.25))\n",
    "\n",
    "model.add(Conv2D(64, (3, 3), padding='same'))\n",
    "model.add(Activation('relu'))\n",
    "model.add(Conv2D(64, (3, 3)))\n",
    "model.add(Activation('relu'))\n",
    "model.add(MaxPooling2D(pool_size=(2, 2)))\n",
    "model.add(Dropout(0.25))\n",
    "\n",
    "model.add(Flatten())\n",
    "model.add(Dense(512))\n",
    "model.add(Activation('relu'))\n",
    "model.add(Dropout(0.5))\n",
    "model.add(Dense(NUM_CLASSES))\n",
    "model.add(Activation('softmax'))\n",
    "\n",
    "# Let's compile the model using RMSprop\n",
    "model.compile(loss='categorical_crossentropy',\n",
    "              optimizer='adam',\n",
    "              metrics=['accuracy'])\n",
    "\n",
    "model = tf.contrib.tpu.keras_to_tpu_model(model, strategy=tf.contrib.tpu.TPUDistributionStrategy(\n",
    "    tf.contrib.cluster_resolver.TPUClusterResolver(tpu='grpc://10.240.1.2:8470'))\n",
    ")"
   ]
  },
  {
   "cell_type": "code",
   "execution_count": null,
   "metadata": {},
   "outputs": [
    {
     "data": {
      "text/plain": [
       "'callbacks = [EarlyStopping(monitor=\\'val_acc\\', patience=6)]\\n\\n# This will do preprocessing and realtime data augmentation:\\ndatagen = ImageDataGenerator(\\n    featurewise_center=False,  # set input mean to 0 over the dataset\\n    samplewise_center=False,  # set each sample mean to 0\\n    featurewise_std_normalization=False,  # divide inputs by std of the dataset\\n    samplewise_std_normalization=False,  # divide each input by its std\\n    zca_whitening=False,  # apply ZCA whitening\\n    zca_epsilon=1e-06,  # epsilon for ZCA whitening\\n    rotation_range=0,  # randomly rotate images in the range (degrees, 0 to 180)\\n    # randomly shift images horizontally (fraction of total width)\\n    width_shift_range=0.1,\\n    # randomly shift images vertically (fraction of total height)\\n    height_shift_range=0.1,\\n    # set mode for filling points outside the input boundaries\\n    fill_mode=\\'nearest\\',\\n    cval=0.,  # value used for fill_mode = \"constant\"\\n    horizontal_flip=True,  # randomly flip images\\n    vertical_flip=False)\\n\\n# Compute quantities required for feature-wise normalization\\n# (std, mean, and principal components if ZCA whitening is applied).\\ndatagen.fit(X_trn)\\n\\n# Fit the model on the batches generated by datagen.flow().\\nmodel.fit_generator(\\n    datagen.flow(X_trn, Y_trn, batch_size=64),\\n    epochs=150,\\n    validation_data=(X_tst, Y_tst),\\n    workers=4,\\n    callbacks=callbacks)'"
      ]
     },
     "execution_count": 5,
     "metadata": {},
     "output_type": "execute_result"
    }
   ],
   "source": [
    "'''callbacks = [EarlyStopping(monitor='val_acc', patience=6)]\n",
    "\n",
    "# This will do preprocessing and realtime data augmentation:\n",
    "datagen = ImageDataGenerator(\n",
    "    featurewise_center=False,  # set input mean to 0 over the dataset\n",
    "    samplewise_center=False,  # set each sample mean to 0\n",
    "    featurewise_std_normalization=False,  # divide inputs by std of the dataset\n",
    "    samplewise_std_normalization=False,  # divide each input by its std\n",
    "    zca_whitening=False,  # apply ZCA whitening\n",
    "    zca_epsilon=1e-06,  # epsilon for ZCA whitening\n",
    "    rotation_range=0,  # randomly rotate images in the range (degrees, 0 to 180)\n",
    "    # randomly shift images horizontally (fraction of total width)\n",
    "    width_shift_range=0.1,\n",
    "    # randomly shift images vertically (fraction of total height)\n",
    "    height_shift_range=0.1,\n",
    "    # set mode for filling points outside the input boundaries\n",
    "    fill_mode='nearest',\n",
    "    cval=0.,  # value used for fill_mode = \"constant\"\n",
    "    horizontal_flip=True,  # randomly flip images\n",
    "    vertical_flip=False)\n",
    "\n",
    "# Compute quantities required for feature-wise normalization\n",
    "# (std, mean, and principal components if ZCA whitening is applied).\n",
    "datagen.fit(X_trn)\n",
    "\n",
    "# Fit the model on the batches generated by datagen.flow().\n",
    "model.fit_generator(\n",
    "    datagen.flow(X_trn, Y_trn, batch_size=64),\n",
    "    epochs=150,\n",
    "    validation_data=(X_tst, Y_tst),\n",
    "    workers=4,\n",
    "    callbacks=callbacks)'''"
   ]
  },
  {
   "cell_type": "code",
   "execution_count": null,
   "metadata": {},
   "outputs": [
    {
     "name": "stdout",
     "output_type": "stream",
     "text": [
      "Train on 18549 samples, validate on 2031 samples\n",
      "Epoch 1/150\n",
      "INFO:tensorflow:New input shapes; (re-)compiling: mode=train (# of cores 8), [TensorSpec(shape=(8,), dtype=tf.int32, name='core_id0'), TensorSpec(shape=(8, 96, 96, 3), dtype=tf.float32, name='conv2d_input_10'), TensorSpec(shape=(8, 120), dtype=tf.float32, name='activation_5_target_30')]\n",
      "INFO:tensorflow:Overriding default placeholder.\n",
      "INFO:tensorflow:Cloning Adam {'beta_1': 0.8999999761581421, 'amsgrad': False, 'decay': 0.0, 'beta_2': 0.9990000128746033, 'lr': 0.0010000000474974513, 'epsilon': 1e-07}\n",
      "INFO:tensorflow:Remapping placeholder for conv2d_input\n",
      "WARNING:tensorflow:From /usr/local/lib/python3.5/dist-packages/tensorflow/contrib/tpu/python/tpu/keras_support.py:302: to_float (from tensorflow.python.ops.math_ops) is deprecated and will be removed in a future version.\n",
      "Instructions for updating:\n",
      "Use tf.cast instead.\n",
      "INFO:tensorflow:KerasCrossShard: <tensorflow.python.keras.optimizers.Adam object at 0x7fb5c80af7f0> []\n",
      "WARNING:tensorflow:From /usr/local/lib/python3.5/dist-packages/tensorflow/python/ops/math_ops.py:3066: to_int32 (from tensorflow.python.ops.math_ops) is deprecated and will be removed in a future version.\n",
      "Instructions for updating:\n",
      "Use tf.cast instead.\n",
      "INFO:tensorflow:Started compiling\n",
      "INFO:tensorflow:Finished compiling. Time elapsed: 5.2643516063690186 secs\n",
      "INFO:tensorflow:Setting weights on TPU model.\n",
      "INFO:tensorflow:CPU -> TPU beta_1: 0.8999999761581421 {0.9}\n",
      "WARNING:tensorflow:Cannot update non-variable config: amsgrad\n",
      "INFO:tensorflow:CPU -> TPU decay: 0.0 {0.0}\n",
      "INFO:tensorflow:CPU -> TPU beta_2: 0.9990000128746033 {0.999}\n",
      "INFO:tensorflow:CPU -> TPU lr: 0.0010000000474974513 {0.001}\n",
      "WARNING:tensorflow:Cannot update non-variable config: epsilon\n",
      "18432/18549 [============================>.] - ETA: 0s - loss: 4.7915 - acc: 0.0094INFO:tensorflow:New input shapes; (re-)compiling: mode=train (# of cores 8), [TensorSpec(shape=(6,), dtype=tf.int32, name='core_id0'), TensorSpec(shape=(6, 96, 96, 3), dtype=tf.float32, name='conv2d_input_10'), TensorSpec(shape=(6, 120), dtype=tf.float32, name='activation_5_target_30')]\n",
      "INFO:tensorflow:Overriding default placeholder.\n",
      "INFO:tensorflow:Remapping placeholder for conv2d_input\n",
      "INFO:tensorflow:KerasCrossShard: <tensorflow.python.keras.optimizers.Adam object at 0x7fb5c80af7f0> [<tf.Variable 'tpu_140418778152688/Adam/iterations:0' shape=() dtype=int64>, <tensorflow.contrib.tpu.python.tpu.keras_tpu_variables.ReplicatedVariable object at 0x7fb5ac39e7f0>, <tensorflow.contrib.tpu.python.tpu.keras_tpu_variables.ReplicatedVariable object at 0x7fb5ac3460b8>, <tensorflow.contrib.tpu.python.tpu.keras_tpu_variables.ReplicatedVariable object at 0x7fb5ac3464a8>, <tensorflow.contrib.tpu.python.tpu.keras_tpu_variables.ReplicatedVariable object at 0x7fb5ac2fed68>, <tensorflow.contrib.tpu.python.tpu.keras_tpu_variables.ReplicatedVariable object at 0x7fb5ac2ef4a8>, <tensorflow.contrib.tpu.python.tpu.keras_tpu_variables.ReplicatedVariable object at 0x7fb5ac295eb8>, <tensorflow.contrib.tpu.python.tpu.keras_tpu_variables.ReplicatedVariable object at 0x7fb5ac25ca90>, <tensorflow.contrib.tpu.python.tpu.keras_tpu_variables.ReplicatedVariable object at 0x7fb5ac1f5518>, <tensorflow.contrib.tpu.python.tpu.keras_tpu_variables.ReplicatedVariable object at 0x7fb5ac19d7b8>, <tensorflow.contrib.tpu.python.tpu.keras_tpu_variables.ReplicatedVariable object at 0x7fb5ac1642e8>, <tensorflow.contrib.tpu.python.tpu.keras_tpu_variables.ReplicatedVariable object at 0x7fb5ac12db00>, <tensorflow.contrib.tpu.python.tpu.keras_tpu_variables.ReplicatedVariable object at 0x7fb5ac0f7f98>, <tensorflow.contrib.tpu.python.tpu.keras_tpu_variables.ReplicatedVariable object at 0x7fb5ac09d828>, <tensorflow.contrib.tpu.python.tpu.keras_tpu_variables.ReplicatedVariable object at 0x7fb5a47cec18>, <tensorflow.contrib.tpu.python.tpu.keras_tpu_variables.ReplicatedVariable object at 0x7fb5a4797588>, <tensorflow.contrib.tpu.python.tpu.keras_tpu_variables.ReplicatedVariable object at 0x7fb5a472ca20>, <tensorflow.contrib.tpu.python.tpu.keras_tpu_variables.ReplicatedVariable object at 0x7fb5a46d3ac8>, <tensorflow.contrib.tpu.python.tpu.keras_tpu_variables.ReplicatedVariable object at 0x7fb5a4643f98>, <tensorflow.contrib.tpu.python.tpu.keras_tpu_variables.ReplicatedVariable object at 0x7fb5a469cf28>, <tensorflow.contrib.tpu.python.tpu.keras_tpu_variables.ReplicatedVariable object at 0x7fb5a45d9fd0>, <tensorflow.contrib.tpu.python.tpu.keras_tpu_variables.ReplicatedVariable object at 0x7fb5a45a1898>, <tensorflow.contrib.tpu.python.tpu.keras_tpu_variables.ReplicatedVariable object at 0x7fb5a4510908>, <tensorflow.contrib.tpu.python.tpu.keras_tpu_variables.ReplicatedVariable object at 0x7fb5a4536860>, <tensorflow.contrib.tpu.python.tpu.keras_tpu_variables.ReplicatedVariable object at 0x7fb5a44ddd30>, <tensorflow.contrib.tpu.python.tpu.keras_tpu_variables.ReplicatedVariable object at 0x7fb5a44a7438>, <tensorflow.contrib.tpu.python.tpu.keras_tpu_variables.ReplicatedVariable object at 0x7fb5a43bb5c0>, <tensorflow.contrib.tpu.python.tpu.keras_tpu_variables.ReplicatedVariable object at 0x7fb5a4386470>, <tensorflow.contrib.tpu.python.tpu.keras_tpu_variables.ReplicatedVariable object at 0x7fb5a434fef0>, <tensorflow.contrib.tpu.python.tpu.keras_tpu_variables.ReplicatedVariable object at 0x7fb5a42c1be0>, <tensorflow.contrib.tpu.python.tpu.keras_tpu_variables.ReplicatedVariable object at 0x7fb5a428a7b8>, <tensorflow.contrib.tpu.python.tpu.keras_tpu_variables.ReplicatedVariable object at 0x7fb5a4256860>, <tensorflow.contrib.tpu.python.tpu.keras_tpu_variables.ReplicatedVariable object at 0x7fb5a421ecc0>, <tensorflow.contrib.tpu.python.tpu.keras_tpu_variables.ReplicatedVariable object at 0x7fb5a418fbe0>, <tensorflow.contrib.tpu.python.tpu.keras_tpu_variables.ReplicatedVariable object at 0x7fb5a41587b8>, <tensorflow.contrib.tpu.python.tpu.keras_tpu_variables.ReplicatedVariable object at 0x7fb5a4124780>, <tensorflow.contrib.tpu.python.tpu.keras_tpu_variables.ReplicatedVariable object at 0x7fb5a40eaef0>]\n",
      "INFO:tensorflow:Started compiling\n",
      "INFO:tensorflow:Finished compiling. Time elapsed: 6.688281297683716 secs\n",
      "18496/18549 [============================>.] - ETA: 0s - loss: 4.7915 - acc: 0.0095INFO:tensorflow:New input shapes; (re-)compiling: mode=eval (# of cores 8), [TensorSpec(shape=(8,), dtype=tf.int32, name='core_id_10'), TensorSpec(shape=(8, 96, 96, 3), dtype=tf.float32, name='conv2d_input_10'), TensorSpec(shape=(8, 120), dtype=tf.float32, name='activation_5_target_30')]\n",
      "INFO:tensorflow:Overriding default placeholder.\n",
      "INFO:tensorflow:Cloning Adam {'beta_1': 0.8999999761581421, 'amsgrad': False, 'decay': 0.0, 'beta_2': 0.9990000128746033, 'lr': 0.0010000000474974513, 'epsilon': 1e-07}\n",
      "INFO:tensorflow:Remapping placeholder for conv2d_input\n",
      "INFO:tensorflow:KerasCrossShard: <tensorflow.python.keras.optimizers.Adam object at 0x7fb546e59c88> []\n",
      "INFO:tensorflow:Started compiling\n",
      "INFO:tensorflow:Finished compiling. Time elapsed: 3.321728467941284 secs\n",
      "INFO:tensorflow:New input shapes; (re-)compiling: mode=eval (# of cores 8), [TensorSpec(shape=(5,), dtype=tf.int32, name='core_id_10'), TensorSpec(shape=(5, 96, 96, 3), dtype=tf.float32, name='conv2d_input_10'), TensorSpec(shape=(5, 120), dtype=tf.float32, name='activation_5_target_30')]\n",
      "INFO:tensorflow:Overriding default placeholder.\n",
      "INFO:tensorflow:Remapping placeholder for conv2d_input\n",
      "INFO:tensorflow:KerasCrossShard: <tensorflow.python.keras.optimizers.Adam object at 0x7fb546e59c88> []\n",
      "INFO:tensorflow:Started compiling\n",
      "INFO:tensorflow:Finished compiling. Time elapsed: 3.313035249710083 secs\n",
      "18549/18549 [==============================] - 46s 2ms/sample - loss: 4.7915 - acc: 0.0094 - val_loss: 4.7845 - val_acc: 0.0138\n",
      "Epoch 2/150\n",
      "18549/18549 [==============================] - 11s 611us/sample - loss: 4.7830 - acc: 0.0119 - val_loss: 4.7827 - val_acc: 0.0138\n",
      "Epoch 3/150\n",
      "18549/18549 [==============================] - 13s 694us/sample - loss: 4.7815 - acc: 0.0112 - val_loss: 4.7819 - val_acc: 0.0138\n",
      "Epoch 4/150\n",
      "18549/18549 [==============================] - 12s 652us/sample - loss: 4.7809 - acc: 0.0107 - val_loss: 4.7814 - val_acc: 0.0138\n",
      "Epoch 5/150\n"
     ]
    },
    {
     "name": "stdout",
     "output_type": "stream",
     "text": [
      "18549/18549 [==============================] - 13s 709us/sample - loss: 4.7808 - acc: 0.0119 - val_loss: 4.7814 - val_acc: 0.0138\n",
      "Epoch 6/150\n",
      "18549/18549 [==============================] - 13s 691us/sample - loss: 4.7806 - acc: 0.0111 - val_loss: 4.7813 - val_acc: 0.0138\n",
      "Epoch 7/150\n",
      "17344/18549 [===========================>..] - ETA: 0s - loss: 4.7802 - acc: 0.0121"
     ]
    }
   ],
   "source": [
    "model.fit(X_trn, Y_trn,\n",
    "              batch_size=64,\n",
    "              epochs=150,\n",
    "              validation_data=(X_tst, Y_tst),\n",
    "              shuffle=True, callbacks=[tf.keras.callbacks.EarlyStopping(monitor='val_acc', patience=6)])"
   ]
  }
 ],
 "metadata": {
  "kernelspec": {
   "display_name": "Python 3",
   "language": "python",
   "name": "python3"
  },
  "language_info": {
   "codemirror_mode": {
    "name": "ipython",
    "version": 3
   },
   "file_extension": ".py",
   "mimetype": "text/x-python",
   "name": "python",
   "nbconvert_exporter": "python",
   "pygments_lexer": "ipython3",
   "version": "3.5.3"
  }
 },
 "nbformat": 4,
 "nbformat_minor": 2
}
